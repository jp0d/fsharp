{
 "metadata": {
  "kernelspec": {
   "display_name": ".NET (F#)",
   "language": "F#",
   "name": ".net-fsharp"
  },
  "language_info": {
   "name": "F#"
  }
 },
 "cells": [
  {
   "cell_type": "markdown",
   "source": [
    "##### It starts by creating a new type for the record. The type definition lists the name of the properties and also the type of the properties, this can be seen below.\r\n",
    "\r\n",
    "##### Once you have a record type definition you re free to bind a new instance to a value use Let. Again an example of this can be seen below, where we bind a new record using a Let binding, and we also print the property values of the record instance to the console output."
   ],
   "metadata": {}
  },
  {
   "cell_type": "code",
   "execution_count": null,
   "source": [
    "type Person = { Age : int; Sex: string; Name:string; }  \r\n",
    "\r\n",
    "let sam = { Age = 12; Sex=\"Male\"; Name =\"Sam\" }\r\n",
    "printfn \"let sam = { Age = 12; Sex=\\\"Male\\\"; Name=\\\"Sam\\\" }\"\r\n",
    "printfn \"Person with Age is %i and Sex is %s and Name is %s\" sam.Age sam.Sex sam.Name\r\n"
   ],
   "outputs": [],
   "metadata": {
    "dotnet_interactive": {
     "language": "fsharp"
    }
   }
  },
  {
   "cell_type": "code",
   "execution_count": null,
   "source": [],
   "outputs": [],
   "metadata": {
    "dotnet_interactive": {
     "language": "fsharp"
    }
   }
  }
 ],
 "nbformat": 4,
 "nbformat_minor": 2
}