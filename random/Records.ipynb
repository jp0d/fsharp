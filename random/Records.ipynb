{
 "metadata": {
  "kernelspec": {
   "display_name": ".NET (F#)",
   "language": "F#",
   "name": ".net-fsharp"
  },
  "language_info": {
   "name": "F#"
  }
 },
 "cells": [
  {
   "cell_type": "markdown",
   "source": [
    "##### It starts by creating a new type for the record. The type definition lists the name of the properties and also the type of the properties, this can be seen below.\r\n",
    "\r\n",
    "##### Once you have a record type definition you re free to bind a new instance to a value use Let. Again an example of this can be seen below, where we bind a new record using a Let binding, and we also print the property values of the record instance to the console output."
   ],
   "metadata": {}
  },
  {
   "cell_type": "code",
   "execution_count": null,
   "source": [
    "type Person = { Age : int; Sex: string; Name:string; }  \n",
    "\n",
    "let sam = { Age = 12; Sex=\"Male\"; Name =\"Sam\" }\n",
    "printfn \"let sam = { Age = 12; Sex=\\\"Male\\\"; Name=\\\"Sam\\\" }\"\n",
    "printfn \"Person with Age is %i and Sex is %s and Name is %s\" sam.Age sam.Sex sam.Name\n"
   ],
   "outputs": [
    {
     "data": {
      "text/plain": [
       "let sam = { Age = 12; Sex=\"Male\"; Name=\"Sam\" }"
      ]
     },
     "metadata": {},
     "output_type": "display_data"
    },
    {
     "data": {
      "text/plain": [
       "\n"
      ]
     },
     "metadata": {},
     "output_type": "display_data"
    },
    {
     "data": {
      "text/plain": [
       "Person with Age is "
      ]
     },
     "metadata": {},
     "output_type": "display_data"
    },
    {
     "data": {
      "text/plain": [
       "12"
      ]
     },
     "metadata": {},
     "output_type": "display_data"
    },
    {
     "data": {
      "text/plain": [
       " and Sex is "
      ]
     },
     "metadata": {},
     "output_type": "display_data"
    },
    {
     "data": {
      "text/plain": [
       "Male"
      ]
     },
     "metadata": {},
     "output_type": "display_data"
    },
    {
     "data": {
      "text/plain": [
       " and Name is "
      ]
     },
     "metadata": {},
     "output_type": "display_data"
    },
    {
     "data": {
      "text/plain": [
       "Sam"
      ]
     },
     "metadata": {},
     "output_type": "display_data"
    },
    {
     "data": {
      "text/plain": [
       "\n"
      ]
     },
     "metadata": {},
     "output_type": "display_data"
    }
   ],
   "metadata": {
    "dotnet_interactive": {
     "language": "fsharp"
    }
   }
  },
  {
   "cell_type": "code",
   "execution_count": null,
   "source": [
    "let sam = {Age = 12; Sex = \"Male\"; Name = \"Sam\"}\n",
    "let tom = {sam with Name = \"Tom\"}\n",
    "printfn \"let tom = { sam with Name=\\\"Tom\\\"}\"\n",
    "printfn \"Person with Age is %i and Sex is %s and Name is %s\" tom.Age tom.Sex tom.Name"
   ],
   "outputs": [
    {
     "data": {
      "text/plain": [
       "let tom = { sam with Name=\"Tom\"}"
      ]
     },
     "metadata": {},
     "output_type": "display_data"
    },
    {
     "data": {
      "text/plain": [
       "\n"
      ]
     },
     "metadata": {},
     "output_type": "display_data"
    },
    {
     "data": {
      "text/plain": [
       "Person with Age is "
      ]
     },
     "metadata": {},
     "output_type": "display_data"
    },
    {
     "data": {
      "text/plain": [
       "12"
      ]
     },
     "metadata": {},
     "output_type": "display_data"
    },
    {
     "data": {
      "text/plain": [
       " and Sex is "
      ]
     },
     "metadata": {},
     "output_type": "display_data"
    },
    {
     "data": {
      "text/plain": [
       "Male"
      ]
     },
     "metadata": {},
     "output_type": "display_data"
    },
    {
     "data": {
      "text/plain": [
       " and Name is "
      ]
     },
     "metadata": {},
     "output_type": "display_data"
    },
    {
     "data": {
      "text/plain": [
       "Tom"
      ]
     },
     "metadata": {},
     "output_type": "display_data"
    },
    {
     "data": {
      "text/plain": [
       "\n"
      ]
     },
     "metadata": {},
     "output_type": "display_data"
    }
   ],
   "metadata": {
    "dotnet_interactive": {
     "language": "fsharp"
    }
   }
  },
  {
   "cell_type": "code",
   "execution_count": null,
   "source": [
    "printfn \"%A\" sam\n",
    "sam"
   ],
   "outputs": [
    {
     "data": {
      "text/plain": [
       "{ Age = 12\n",
       "  Sex = \"Male\"\n",
       "  Name = \"Sam\" }"
      ]
     },
     "metadata": {},
     "output_type": "display_data"
    },
    {
     "data": {
      "text/plain": [
       "\n"
      ]
     },
     "metadata": {},
     "output_type": "display_data"
    },
    {
     "data": {
      "text/html": [
       "<table><thead><tr><th>Age</th><th>Sex</th><th>Name</th></tr></thead><tbody><tr><td><div class=\"dni-plaintext\">12</div></td><td><div class=\"dni-plaintext\">Male</div></td><td><div class=\"dni-plaintext\">Sam</div></td></tr></tbody></table>"
      ]
     },
     "metadata": {},
     "output_type": "display_data"
    }
   ],
   "metadata": {
    "dotnet_interactive": {
     "language": "fsharp"
    }
   }
  },
  {
   "cell_type": "markdown",
   "source": [
    "Note how we used the “with” keyword when creating the new tom person instance. This form of the record expression is called the “copy and update record expression”. Another choice you could use (again we will be covering this in more detail in a later post) is use a mutable property in your record type. Records are immutable by default; however, you can also explicitly specify a mutable field.\n",
    "\n",
    "Here is an example, notice how I have created a new type which has a mutable property called MutableName. By defining a mutable field, I am allowed to update the value of the MutableName property of the record, which you can do using the “<-“ operator. Which simply allows a new value to be assigned."
   ],
   "metadata": {}
  },
  {
   "cell_type": "code",
   "execution_count": null,
   "source": [
    "type MutableNamePerson = { Age : int; Sex: string; mutable MutableName:string; }   \n",
    "\n",
    "//create\n",
    "let sam = { Age = 12; Sex=\"Male\"; MutableName =\"Sam\" }\n",
    "printfn \"let sam = { Age = 12; Sex=\\\"Male\\\"; Name=\\\"Sam\\\" }\"\n",
    "printfn \"Person with Age is %i and Sex is %s and Name is %s\" sam.Age sam.Sex sam.MutableName\n",
    "//update\n",
    "sam.MutableName <- \"Name changed\"\n",
    "printfn \"sam.MutableName <- \\\"Name changed\\\"\"\n",
    "printfn \"Person with Age is %i and Sex is %s and Name is %s\" sam.Age sam.Sex sam.MutableName\n",
    "    \n"
   ],
   "outputs": [
    {
     "data": {
      "text/plain": [
       "let sam = { Age = 12; Sex=\"Male\"; Name=\"Sam\" }"
      ]
     },
     "metadata": {},
     "output_type": "display_data"
    },
    {
     "data": {
      "text/plain": [
       "\n"
      ]
     },
     "metadata": {},
     "output_type": "display_data"
    },
    {
     "data": {
      "text/plain": [
       "Person with Age is "
      ]
     },
     "metadata": {},
     "output_type": "display_data"
    },
    {
     "data": {
      "text/plain": [
       "12"
      ]
     },
     "metadata": {},
     "output_type": "display_data"
    },
    {
     "data": {
      "text/plain": [
       " and Sex is "
      ]
     },
     "metadata": {},
     "output_type": "display_data"
    },
    {
     "data": {
      "text/plain": [
       "Male"
      ]
     },
     "metadata": {},
     "output_type": "display_data"
    },
    {
     "data": {
      "text/plain": [
       " and Name is "
      ]
     },
     "metadata": {},
     "output_type": "display_data"
    },
    {
     "data": {
      "text/plain": [
       "Sam"
      ]
     },
     "metadata": {},
     "output_type": "display_data"
    },
    {
     "data": {
      "text/plain": [
       "\n"
      ]
     },
     "metadata": {},
     "output_type": "display_data"
    },
    {
     "data": {
      "text/plain": [
       "sam.MutableName <- \"Name changed\""
      ]
     },
     "metadata": {},
     "output_type": "display_data"
    },
    {
     "data": {
      "text/plain": [
       "\n"
      ]
     },
     "metadata": {},
     "output_type": "display_data"
    },
    {
     "data": {
      "text/plain": [
       "Person with Age is "
      ]
     },
     "metadata": {},
     "output_type": "display_data"
    },
    {
     "data": {
      "text/plain": [
       "12"
      ]
     },
     "metadata": {},
     "output_type": "display_data"
    },
    {
     "data": {
      "text/plain": [
       " and Sex is "
      ]
     },
     "metadata": {},
     "output_type": "display_data"
    },
    {
     "data": {
      "text/plain": [
       "Male"
      ]
     },
     "metadata": {},
     "output_type": "display_data"
    },
    {
     "data": {
      "text/plain": [
       " and Name is "
      ]
     },
     "metadata": {},
     "output_type": "display_data"
    },
    {
     "data": {
      "text/plain": [
       "Name changed"
      ]
     },
     "metadata": {},
     "output_type": "display_data"
    },
    {
     "data": {
      "text/plain": [
       "\n"
      ]
     },
     "metadata": {},
     "output_type": "display_data"
    }
   ],
   "metadata": {
    "dotnet_interactive": {
     "language": "fsharp"
    }
   }
  },
  {
   "cell_type": "markdown",
   "source": [
    "## Record Equality\n",
    "\n",
    "#### Record types are only equal if ALL the properties are considered the same. Here is an example"
   ],
   "metadata": {}
  },
  {
   "cell_type": "code",
   "execution_count": null,
   "source": [
    "type Person = { Age : int; Sex: string; Name:string; }   \n",
    "\n",
    "let someFunction p1 p2 =\n",
    "    printfn \"p1=%A, and p2=%A, are they equal %b\" p1 p2 (p1=p2)\n",
    " \n",
    " \n",
    "let sam =  { Age = 12; Sex = \"Male\"; Name = \"Sam\" }\n",
    "let john = { Age = 12; Sex = \"Male\"; Name = \"John\" }\n",
    "let april = { Age = 35; Sex = \"Female\"; Name = \"April\" }\n",
    "let sam2 = { Age = 12; Sex = \"Male\"; Name = \"Sam\" }\n",
    "do someFunction sam john\n",
    "do someFunction sam april\n",
    "do someFunction sam sam2"
   ],
   "outputs": [
    {
     "data": {
      "text/plain": [
       "p1="
      ]
     },
     "metadata": {},
     "output_type": "display_data"
    },
    {
     "data": {
      "text/plain": [
       "{ Age = 12\n",
       "  Sex = \"Male\"\n",
       "  Name = \"Sam\" }"
      ]
     },
     "metadata": {},
     "output_type": "display_data"
    },
    {
     "data": {
      "text/plain": [
       ", and p2="
      ]
     },
     "metadata": {},
     "output_type": "display_data"
    },
    {
     "data": {
      "text/plain": [
       "{ Age = 12\n",
       "  Sex = \"Male\"\n",
       "  Name = \"John\" }"
      ]
     },
     "metadata": {},
     "output_type": "display_data"
    },
    {
     "data": {
      "text/plain": [
       ", are they equal "
      ]
     },
     "metadata": {},
     "output_type": "display_data"
    },
    {
     "data": {
      "text/plain": [
       "false"
      ]
     },
     "metadata": {},
     "output_type": "display_data"
    },
    {
     "data": {
      "text/plain": [
       "\n"
      ]
     },
     "metadata": {},
     "output_type": "display_data"
    },
    {
     "data": {
      "text/plain": [
       "p1="
      ]
     },
     "metadata": {},
     "output_type": "display_data"
    },
    {
     "data": {
      "text/plain": [
       "{ Age = 12\n",
       "  Sex = \"Male\"\n",
       "  Name = \"Sam\" }"
      ]
     },
     "metadata": {},
     "output_type": "display_data"
    },
    {
     "data": {
      "text/plain": [
       ", and p2="
      ]
     },
     "metadata": {},
     "output_type": "display_data"
    },
    {
     "data": {
      "text/plain": [
       "{ Age = 35\n",
       "  Sex = \"Female\"\n",
       "  Name = \"April\" }"
      ]
     },
     "metadata": {},
     "output_type": "display_data"
    },
    {
     "data": {
      "text/plain": [
       ", are they equal "
      ]
     },
     "metadata": {},
     "output_type": "display_data"
    },
    {
     "data": {
      "text/plain": [
       "false"
      ]
     },
     "metadata": {},
     "output_type": "display_data"
    },
    {
     "data": {
      "text/plain": [
       "\n"
      ]
     },
     "metadata": {},
     "output_type": "display_data"
    },
    {
     "data": {
      "text/plain": [
       "p1="
      ]
     },
     "metadata": {},
     "output_type": "display_data"
    },
    {
     "data": {
      "text/plain": [
       "{ Age = 12\n",
       "  Sex = \"Male\"\n",
       "  Name = \"Sam\" }"
      ]
     },
     "metadata": {},
     "output_type": "display_data"
    },
    {
     "data": {
      "text/plain": [
       ", and p2="
      ]
     },
     "metadata": {},
     "output_type": "display_data"
    },
    {
     "data": {
      "text/plain": [
       "{ Age = 12\n",
       "  Sex = \"Male\"\n",
       "  Name = \"Sam\" }"
      ]
     },
     "metadata": {},
     "output_type": "display_data"
    },
    {
     "data": {
      "text/plain": [
       ", are they equal "
      ]
     },
     "metadata": {},
     "output_type": "display_data"
    },
    {
     "data": {
      "text/plain": [
       "true"
      ]
     },
     "metadata": {},
     "output_type": "display_data"
    },
    {
     "data": {
      "text/plain": [
       "\n"
      ]
     },
     "metadata": {},
     "output_type": "display_data"
    }
   ],
   "metadata": {
    "dotnet_interactive": {
     "language": "fsharp"
    }
   }
  },
  {
   "cell_type": "code",
   "execution_count": null,
   "source": [
    "type Person = { Age : int; Sex: string; Name:string; }  \n",
    "\n",
    "let someFunction (somePerson :Person) =\n",
    "    match somePerson with\n",
    "    | { Name=\"Sam\" }    -> printfn \"Sam is in the house\"\n",
    "    | _                 -> printfn \"you aint Sam, get outta here clown\"\n",
    " \n",
    " \n",
    "let sam = { Age = 12; Sex=\"Male\"; Name =\"Sam\" }\n",
    "let john = { Age = 12; Sex=\"Male\"; Name =\"John\" }\n",
    "do someFunction sam\n",
    "do someFunction john"
   ],
   "outputs": [
    {
     "data": {
      "text/plain": [
       "Sam is in the house"
      ]
     },
     "metadata": {},
     "output_type": "display_data"
    },
    {
     "data": {
      "text/plain": [
       "\n"
      ]
     },
     "metadata": {},
     "output_type": "display_data"
    },
    {
     "data": {
      "text/plain": [
       "you aint Sam, get outta here clown"
      ]
     },
     "metadata": {},
     "output_type": "display_data"
    },
    {
     "data": {
      "text/plain": [
       "\n"
      ]
     },
     "metadata": {},
     "output_type": "display_data"
    }
   ],
   "metadata": {
    "dotnet_interactive": {
     "language": "fsharp"
    }
   }
  },
  {
   "cell_type": "code",
   "execution_count": null,
   "source": [
    "type Person = \n",
    "    { Age : int; Sex: string; Name:string; }   \n",
    "    member this.Details = this.Age.ToString() + \" \" + this.Sex.ToString() + \" \" + this.Name\n",
    "\n",
    "let sam =  { Age = 12; Sex = \"Male\"; Name = \"Sam\" }\n",
    "printfn \"sam Details=%s\" sam.Details"
   ],
   "outputs": [
    {
     "data": {
      "text/plain": [
       "sam Details="
      ]
     },
     "metadata": {},
     "output_type": "display_data"
    },
    {
     "data": {
      "text/plain": [
       "12 Male Sam"
      ]
     },
     "metadata": {},
     "output_type": "display_data"
    },
    {
     "data": {
      "text/plain": [
       "\n"
      ]
     },
     "metadata": {},
     "output_type": "display_data"
    }
   ],
   "metadata": {
    "dotnet_interactive": {
     "language": "fsharp"
    }
   }
  },
  {
   "cell_type": "code",
   "execution_count": null,
   "source": [],
   "outputs": [],
   "metadata": {
    "dotnet_interactive": {
     "language": "fsharp"
    }
   }
  }
 ],
 "nbformat": 4,
 "nbformat_minor": 2
}