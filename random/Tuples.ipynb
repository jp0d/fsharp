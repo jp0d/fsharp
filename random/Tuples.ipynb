{
 "metadata": {
  "kernelspec": {
   "display_name": ".NET (F#)",
   "language": "F#",
   "name": ".net-fsharp"
  },
  "language_info": {
   "name": "F#"
  }
 },
 "cells": [
  {
   "cell_type": "markdown",
   "source": [
    "## What Are Tuples\r\n",
    "\r\n",
    "#### A tuple is a grouping of unnamed but ordered values, possibly of different types."
   ],
   "metadata": {}
  },
  {
   "cell_type": "code",
   "execution_count": null,
   "source": [
    "//Creating Tuples\r\n",
    "let a = (1,2)\r\n",
    "let b = (1,\"cat\")\r\n",
    "let c = (1,\"cat\")\r\n",
    "let d = (1,\"cat\", 'c')"
   ],
   "outputs": [],
   "metadata": {
    "dotnet_interactive": {
     "language": "fsharp"
    }
   }
  },
  {
   "cell_type": "markdown",
   "source": [
    "## Generic Tuples\r\n",
    "\r\n",
    "#### Functions accepting tuples can accept generic tuples without any issues as well. The F# type inference system will happily deal with deducing the correct types for the tuple. Here is an example"
   ],
   "metadata": {}
  },
  {
   "cell_type": "code",
   "execution_count": null,
   "source": [
    "let someFunction tup = \r\n",
    "    let (x,y) = tup\r\n",
    "    printfn \"x is %A and y is %A\" x y\r\n",
    " \r\n",
    "do someFunction (\"cat\",\"dog\")\r\n",
    "do someFunction (11,12)"
   ],
   "outputs": [],
   "metadata": {
    "dotnet_interactive": {
     "language": "fsharp"
    }
   }
  },
  {
   "cell_type": "code",
   "execution_count": null,
   "source": [
    "//Creating Tuples\r\n",
    "let a = (1,2)\r\n",
    "let b = (1,\"codfather\")\r\n",
    "let c = (1,\"c\", 12.5)"
   ],
   "outputs": [],
   "metadata": {
    "dotnet_interactive": {
     "language": "fsharp"
    }
   }
  },
  {
   "cell_type": "markdown",
   "source": [
    "### The following lines will compile individually but won't work as a whole cell due to non-mutability"
   ],
   "metadata": {}
  },
  {
   "cell_type": "code",
   "execution_count": null,
   "source": [
    "//Exploding Tuples\r\n",
    "let (a,b) = (1,2)\r\n",
    " \r\n",
    "printfn \"(a,b) = (1,2), so value of 'a' should be 1, and it is =%i,\\r\\n 'b' should be 2, and it is =%i\" a b\r\n",
    " \r\n",
    "//using wildcard, essentially dont create an unnessecary value binding if you are\r\n",
    "//not interested in it\r\n",
    "let (_,z) = (1,2)\r\n",
    "printfn \"grabbing last value from (1,2) which is = %i\" z\r\n",
    " \r\n",
    " \r\n",
    "//how about some strongly Let bindings\r\n",
    "let (a,b :string) = (1,\"cat\")\r\n",
    "printfn \"grabbing (1,\\\"cat\\\") which has values = %i %s\" a b\r\n",
    " \r\n",
    "let (a :int,b :string) = (1,\"cat\")\r\n",
    "printfn \"grabbing (1,\\\"cat\\\") which has values = %i %s\" a b\r\n",
    " \r\n",
    " \r\n",
    "let (a ,b, c) = (1,\"cat\", 'c')\r\n",
    "printfn \"grabbing (1,\\\"cat\\\",'c') which has values = %i %s %c\" a b c\r\n",
    " \r\n",
    " \r\n",
    "//using built in helpers\r\n",
    "let first = fst (1, 2)\r\n",
    "printfn \"grabbing fst from (1,2) which has values = %i\" first\r\n",
    " \r\n",
    "let second = snd (1, 2)\r\n",
    "printfn \"grabbing 2nd from (1,2) which has values = %i\" second\r\n"
   ],
   "outputs": [
    {
     "output_type": "error",
     "ename": "Error",
     "evalue": "input.fsx (13,8)-(13,9) typecheck error Duplicate definition of value 'b'\ninput.fsx (13,6)-(13,7) typecheck error Duplicate definition of value 'a'\ninput.fsx (16,13)-(16,14) typecheck error Duplicate definition of value 'b'\ninput.fsx (16,6)-(16,7) typecheck error Duplicate definition of value 'a'\ninput.fsx (20,9)-(20,10) typecheck error Duplicate definition of value 'b'\ninput.fsx (20,6)-(20,7) typecheck error Duplicate definition of value 'a'",
     "traceback": [
      "input.fsx (13,8)-(13,9) typecheck error Duplicate definition of value 'b'\n",
      "input.fsx (13,6)-(13,7) typecheck error Duplicate definition of value 'a'\n",
      "input.fsx (16,13)-(16,14) typecheck error Duplicate definition of value 'b'\n",
      "input.fsx (16,6)-(16,7) typecheck error Duplicate definition of value 'a'\n",
      "input.fsx (20,9)-(20,10) typecheck error Duplicate definition of value 'b'\n",
      "input.fsx (20,6)-(20,7) typecheck error Duplicate definition of value 'a'"
     ]
    }
   ],
   "metadata": {
    "dotnet_interactive": {
     "language": "fsharp"
    }
   }
  },
  {
   "cell_type": "markdown",
   "source": [
    "## Creating New Tuples\r\n",
    "\r\n",
    "#### You may want to create new tuples from existing tuples, this is easy enough, here is an example"
   ],
   "metadata": {}
  },
  {
   "cell_type": "code",
   "execution_count": null,
   "source": [
    "let oldOne = (1,2)\r\n",
    "let (x,y) = oldOne\r\n",
    "let newOne = (x+1,y+1)\r\n",
    "printfn \"original = %A, and we did this (x+1,y+1)\\r\\n to obtain newOne = %A\" oldOne newOne"
   ],
   "outputs": [
    {
     "data": {
      "text/plain": [
       "original = "
      ]
     },
     "metadata": {},
     "output_type": "display_data"
    },
    {
     "data": {
      "text/plain": [
       "(1, 2)"
      ]
     },
     "metadata": {},
     "output_type": "display_data"
    },
    {
     "data": {
      "text/plain": [
       ", and we did this (x+1,y+1)\r\n",
       " to obtain newOne = "
      ]
     },
     "metadata": {},
     "output_type": "display_data"
    },
    {
     "data": {
      "text/plain": [
       "(2, 3)"
      ]
     },
     "metadata": {},
     "output_type": "display_data"
    },
    {
     "data": {
      "text/plain": [
       "\r\n"
      ]
     },
     "metadata": {},
     "output_type": "display_data"
    }
   ],
   "metadata": {
    "dotnet_interactive": {
     "language": "fsharp"
    }
   }
  },
  {
   "cell_type": "markdown",
   "source": [
    "## Tuples are ONLY considered to be equal if\r\n",
    "\r\n",
    "#### They have the same number of values\r\n",
    "#### ALL the values are considered equal (Obviously this could include custom Equals methods, or custom IEquatable implementations etc etc)"
   ],
   "metadata": {}
  },
  {
   "cell_type": "code",
   "execution_count": null,
   "source": [
    "printfn \"(1,2) = (3,4) = %b\" ((1,2) = (3,4))\r\n",
    "printfn \"(1,2) = (1,2) = %b\" ((1,2) = (1,2))\r\n",
    "printfn \"('a','b') = ('a','b') = %b\" (('a','b') = ('a','b'))\r\n",
    "printfn \"('a','b') = ('a','c') = %b\" (('a','b') = ('a','c'))"
   ],
   "outputs": [
    {
     "data": {
      "text/plain": [
       "(1,2) = (3,4) = "
      ]
     },
     "metadata": {},
     "output_type": "display_data"
    },
    {
     "data": {
      "text/plain": [
       "false"
      ]
     },
     "metadata": {},
     "output_type": "display_data"
    },
    {
     "data": {
      "text/plain": [
       "\r\n"
      ]
     },
     "metadata": {},
     "output_type": "display_data"
    },
    {
     "data": {
      "text/plain": [
       "(1,2) = (1,2) = "
      ]
     },
     "metadata": {},
     "output_type": "display_data"
    },
    {
     "data": {
      "text/plain": [
       "true"
      ]
     },
     "metadata": {},
     "output_type": "display_data"
    },
    {
     "data": {
      "text/plain": [
       "\r\n"
      ]
     },
     "metadata": {},
     "output_type": "display_data"
    },
    {
     "data": {
      "text/plain": [
       "('a','b') = ('a','b') = "
      ]
     },
     "metadata": {},
     "output_type": "display_data"
    },
    {
     "data": {
      "text/plain": [
       "true"
      ]
     },
     "metadata": {},
     "output_type": "display_data"
    },
    {
     "data": {
      "text/plain": [
       "\r\n"
      ]
     },
     "metadata": {},
     "output_type": "display_data"
    },
    {
     "data": {
      "text/plain": [
       "('a','b') = ('a','c') = "
      ]
     },
     "metadata": {},
     "output_type": "display_data"
    },
    {
     "data": {
      "text/plain": [
       "false"
      ]
     },
     "metadata": {},
     "output_type": "display_data"
    },
    {
     "data": {
      "text/plain": [
       "\r\n"
      ]
     },
     "metadata": {},
     "output_type": "display_data"
    }
   ],
   "metadata": {
    "dotnet_interactive": {
     "language": "fsharp"
    }
   }
  },
  {
   "cell_type": "code",
   "execution_count": null,
   "source": [
    "let someFunction tup = \r\n",
    "    match tup with\r\n",
    "    | 1,2 -> printfn \"you passed (1,2)\"\r\n",
    "    | _,_ -> printfn \"you passed some other tuple\"\r\n"
   ],
   "outputs": [],
   "metadata": {
    "dotnet_interactive": {
     "language": "fsharp"
    }
   }
  },
  {
   "cell_type": "code",
   "execution_count": null,
   "source": [
    "do someFunction (11,12)\r\n",
    "do someFunction (4,5)\r\n",
    "do someFunction (1,2)\r\n",
    "do someFunction (13,23)"
   ],
   "outputs": [
    {
     "data": {
      "text/plain": [
       "you passed some other tuple"
      ]
     },
     "metadata": {},
     "output_type": "display_data"
    },
    {
     "data": {
      "text/plain": [
       "\r\n"
      ]
     },
     "metadata": {},
     "output_type": "display_data"
    },
    {
     "data": {
      "text/plain": [
       "you passed some other tuple"
      ]
     },
     "metadata": {},
     "output_type": "display_data"
    },
    {
     "data": {
      "text/plain": [
       "\r\n"
      ]
     },
     "metadata": {},
     "output_type": "display_data"
    },
    {
     "data": {
      "text/plain": [
       "you passed (1,2)"
      ]
     },
     "metadata": {},
     "output_type": "display_data"
    },
    {
     "data": {
      "text/plain": [
       "\r\n"
      ]
     },
     "metadata": {},
     "output_type": "display_data"
    },
    {
     "data": {
      "text/plain": [
       "you passed some other tuple"
      ]
     },
     "metadata": {},
     "output_type": "display_data"
    },
    {
     "data": {
      "text/plain": [
       "\r\n"
      ]
     },
     "metadata": {},
     "output_type": "display_data"
    }
   ],
   "metadata": {
    "dotnet_interactive": {
     "language": "fsharp"
    }
   }
  },
  {
   "cell_type": "code",
   "execution_count": null,
   "source": [],
   "outputs": [],
   "metadata": {
    "dotnet_interactive": {
     "language": "fsharp"
    }
   }
  }
 ],
 "nbformat": 4,
 "nbformat_minor": 2
}