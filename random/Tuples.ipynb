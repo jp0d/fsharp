{
 "metadata": {
  "kernelspec": {
   "display_name": ".NET (F#)",
   "language": "F#",
   "name": ".net-fsharp"
  },
  "language_info": {
   "name": "F#"
  }
 },
 "cells": [
  {
   "cell_type": "markdown",
   "source": [
    "## What Are Tuples\r\n",
    "\r\n",
    "#### A tuple is a grouping of unnamed but ordered values, possibly of different types."
   ],
   "metadata": {}
  },
  {
   "cell_type": "code",
   "execution_count": null,
   "source": [
    "//Creating Tuples\r\n",
    "let a = (1,2)\r\n",
    "let b = (1,\"cat\")\r\n",
    "let c = (1,\"cat\")\r\n",
    "let d = (1,\"cat\", 'c')"
   ],
   "outputs": [],
   "metadata": {}
  },
  {
   "cell_type": "markdown",
   "source": [
    "## Generic Tuples\r\n",
    "\r\n",
    "#### Functions accepting tuples can accept generic tuples without any issues as well. The F# type inference system will happily deal with deducing the correct types for the tuple. Here is an example"
   ],
   "metadata": {}
  },
  {
   "cell_type": "code",
   "execution_count": null,
   "source": [
    "let someFunction tup = \r\n",
    "    let (x,y) = tup\r\n",
    "    printfn \"x is %A and y is %A\" x y\r\n",
    " \r\n",
    "do someFunction (\"cat\",\"dog\")\r\n",
    "do someFunction (11,12)"
   ],
   "outputs": [],
   "metadata": {}
  },
  {
   "cell_type": "code",
   "execution_count": null,
   "source": [],
   "outputs": [],
   "metadata": {}
  }
 ],
 "nbformat": 4,
 "nbformat_minor": 2
}