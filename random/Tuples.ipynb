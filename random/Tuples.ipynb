{
 "metadata": {
  "kernelspec": {
   "display_name": ".NET (F#)",
   "language": "F#",
   "name": ".net-fsharp"
  },
  "language_info": {
   "name": "F#"
  }
 },
 "cells": [
  {
   "cell_type": "markdown",
   "source": [
    "What Are Tuples\r\n",
    "\r\n",
    "A tuple is a grouping of unnamed but ordered values, possibly of different types."
   ],
   "metadata": {}
  },
  {
   "cell_type": "code",
   "execution_count": null,
   "source": [
    "//Creating Tuples\r\n",
    "let a = (1,2)\r\n",
    "let b = (1,\"cat\")\r\n",
    "let c = (1,\"cat\")\r\n",
    "let d = (1,\"cat\", 'c')"
   ],
   "outputs": [],
   "metadata": {}
  },
  {
   "cell_type": "code",
   "execution_count": null,
   "source": [],
   "outputs": [],
   "metadata": {}
  }
 ],
 "nbformat": 4,
 "nbformat_minor": 2
}