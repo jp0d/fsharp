{
 "cells": [
  {
   "cell_type": "code",
   "execution_count": null,
   "source": [
    "// incorrect type\n",
    "//printfn \"should be a decimal value %d\" \"cat\"\n",
    "//this works\n",
    "printfn \"should be a decimal value %d\" 42\n",
    "// incorrect type but works\n",
    "Console.WriteLine(\"should be a decimal value {0}\" , \"cat\")"
   ],
   "outputs": [
    {
     "data": {
      "text/plain": [
       "should be a decimal value "
      ]
     },
     "metadata": {},
     "output_type": "display_data"
    },
    {
     "data": {
      "text/plain": [
       "42"
      ]
     },
     "metadata": {},
     "output_type": "display_data"
    },
    {
     "data": {
      "text/plain": [
       "\n"
      ]
     },
     "metadata": {},
     "output_type": "display_data"
    },
    {
     "data": {
      "text/plain": [
       "should be a decimal value cat\n"
      ]
     },
     "metadata": {},
     "output_type": "display_data"
    }
   ],
   "metadata": {
    "dotnet_interactive": {
     "language": "fsharp"
    }
   }
  },
  {
   "cell_type": "code",
   "execution_count": null,
   "source": [
    "// wrong number of parameters provided\n",
    "//printfn \"this only expected 1 arg of type decimal %d\" 42 \"dog\"\n",
    "// wrong number of parameters provided but works\n",
    "Console.WriteLine(\"this only expected 1 arg of type decimal {0}\" , 42, \"dog\")\n",
    "// this works as expected\n",
    "printfn \"this only expected 2 args of type decimal %d and string %s\" 42 \"dog\"\n"
   ],
   "outputs": [
    {
     "data": {
      "text/plain": [
       "this only expected 1 arg of type decimal 42\n"
      ]
     },
     "metadata": {},
     "output_type": "display_data"
    },
    {
     "data": {
      "text/plain": [
       "this only expected 2 args of type decimal "
      ]
     },
     "metadata": {},
     "output_type": "display_data"
    },
    {
     "data": {
      "text/plain": [
       "42"
      ]
     },
     "metadata": {},
     "output_type": "display_data"
    },
    {
     "data": {
      "text/plain": [
       " and string "
      ]
     },
     "metadata": {},
     "output_type": "display_data"
    },
    {
     "data": {
      "text/plain": [
       "dog"
      ]
     },
     "metadata": {},
     "output_type": "display_data"
    },
    {
     "data": {
      "text/plain": [
       "\n"
      ]
     },
     "metadata": {},
     "output_type": "display_data"
    }
   ],
   "metadata": {
    "dotnet_interactive": {
     "language": "fsharp"
    }
   }
  },
  {
   "cell_type": "code",
   "execution_count": null,
   "source": [
    "let builder = new StringBuilder(524288)\n",
    "Printf.bprintf builder \"This will be a string line : %s\\r\\n\" \"cat\"\n",
    "Printf.bprintf builder \"This will be a bool line : %b\\r\\n\" true\n",
    "Printf.bprintf builder \"This will be a int line : %u\\r\\n\" 42\n",
    "Printf.bprintf builder \"This will be a hex line : %X\\r\\n\" 255\n"
   ],
   "outputs": [],
   "metadata": {
    "dotnet_interactive": {
     "language": "fsharp"
    }
   }
  },
  {
   "cell_type": "code",
   "execution_count": null,
   "source": [
    "printfn \"%s\" (builder.ToString())"
   ],
   "outputs": [
    {
     "data": {
      "text/plain": [
       "This will be a string line : cat\r\n",
       "This will be a bool line : true\r\n",
       "This will be a int line : 42\r\n",
       "This will be a hex line : FF\r\n"
      ]
     },
     "metadata": {},
     "output_type": "display_data"
    },
    {
     "data": {
      "text/plain": [
       "\n"
      ]
     },
     "metadata": {},
     "output_type": "display_data"
    }
   ],
   "metadata": {
    "dotnet_interactive": {
     "language": "fsharp"
    }
   }
  },
  {
   "cell_type": "code",
   "execution_count": null,
   "source": [],
   "outputs": [],
   "metadata": {
    "dotnet_interactive": {
     "language": "fsharp"
    }
   }
  }
 ],
 "metadata": {
  "orig_nbformat": 4,
  "language_info": {
   "file_extension": ".cs",
   "mimetype": "text/x-csharp",
   "name": "C#",
   "pygments_lexer": "csharp",
   "version": "9.0"
  },
  "kernelspec": {
   "display_name": ".NET (C#)",
   "language": "C#",
   "name": ".net-csharp"
  }
 },
 "nbformat": 4,
 "nbformat_minor": 2
}