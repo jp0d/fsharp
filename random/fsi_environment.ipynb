{
 "metadata": {
  "kernelspec": {
   "display_name": ".NET (F#)",
   "language": "F#",
   "name": ".net-fsharp"
  },
  "language_info": {
   "name": "F#"
  }
 },
 "cells": [
  {
   "cell_type": "code",
   "execution_count": null,
   "source": [
    "(* https://sachabarbs.wordpress.com/2014/02/25/f2-fsi-environment/ *)"
   ],
   "outputs": [],
   "metadata": {
    "dotnet_interactive": {
     "language": "fsharp"
    }
   }
  },
  {
   "cell_type": "code",
   "execution_count": null,
   "source": [
    "let square x = x * x"
   ],
   "outputs": [],
   "metadata": {
    "dotnet_interactive": {
     "language": "fsharp"
    }
   }
  },
  {
   "cell_type": "code",
   "execution_count": null,
   "source": [
    "square 25"
   ],
   "outputs": [
    {
     "output_type": "display_data",
     "data": {
      "text/html": [
       "<div class=\"dni-plaintext\">625</div>"
      ]
     },
     "metadata": {}
    }
   ],
   "metadata": {
    "dotnet_interactive": {
     "language": "fsharp"
    }
   }
  },
  {
   "cell_type": "code",
   "execution_count": null,
   "source": [],
   "outputs": [],
   "metadata": {
    "dotnet_interactive": {
     "language": "fsharp"
    }
   }
  }
 ],
 "nbformat": 4,
 "nbformat_minor": 2
}