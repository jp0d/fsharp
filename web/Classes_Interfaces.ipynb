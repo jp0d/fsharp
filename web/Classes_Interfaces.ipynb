{
 "metadata": {
  "kernelspec": {
   "display_name": ".NET (F#)",
   "language": "F#",
   "name": ".net-fsharp"
  },
  "language_info": {
   "name": "F#"
  }
 },
 "cells": [
  {
   "cell_type": "markdown",
   "source": [
    "## Classes"
   ],
   "metadata": {}
  },
  {
   "cell_type": "code",
   "execution_count": null,
   "source": [
    "(** CLASSES **)\n",
    "type Repo(name: string, stars: int) =\n",
    "    \n",
    "    // Private properties\n",
    "    let baseUrl = \"https://github.com\"\n",
    "    \n",
    "    // Private method\n",
    "    let incrementStarsBy stars n = stars + n\n",
    "\n",
    "    // Additional Constructors\n",
    "    new() = Repo(\"\", 0)\n",
    "\n",
    "    // Instance properties\n",
    "    member this.Name = name //read-only (immutable)\n",
    "    member val Stars = stars with get, set //mutable\n",
    "\n",
    "    // Static Methods\n",
    "    static member PrintHelp() = \"Class that contains repo information\"\n",
    "\n",
    "    // Methods\n",
    "    member _.GetBaseUrl() = $\"{baseUrl}\"\n",
    "    member this.GetRepoUrl() = $\"{baseUrl}/{this.Name}\"\n",
    "    member this.IncrementStarsBy(n) = this.Stars <- incrementStarsBy this.Stars n //takes parameters"
   ],
   "outputs": [],
   "metadata": {
    "dotnet_interactive": {
     "language": "fsharp"
    }
   }
  },
  {
   "cell_type": "code",
   "execution_count": null,
   "source": [
    "// Static members\n",
    "Repo.PrintHelp()"
   ],
   "outputs": [
    {
     "output_type": "display_data",
     "data": {
      "text/plain": [
       "Class that contains repo information"
      ]
     },
     "metadata": {}
    }
   ],
   "metadata": {
    "dotnet_interactive": {
     "language": "fsharp"
    }
   }
  },
  {
   "cell_type": "code",
   "execution_count": null,
   "source": [
    "// Create instance\n",
    "let fsharpRepo = Repo(\"dotnet/fsharp\", 2800)\n",
    "let blankRepo = Repo()"
   ],
   "outputs": [],
   "metadata": {
    "dotnet_interactive": {
     "language": "fsharp"
    }
   }
  },
  {
   "cell_type": "code",
   "execution_count": null,
   "source": [
    "(** ACCESS MEMBERS / PROPERTIES **)\n",
    "fsharpRepo.Name\n",
    "fsharpRepo.GetRepoUrl()\n",
    "fsharpRepo.Stars <- 3000\n",
    "fsharpRepo.IncrementStarsBy 2\n",
    "fsharpRepo.Stars"
   ],
   "outputs": [
    {
     "output_type": "display_data",
     "data": {
      "text/html": [
       "<div class=\"dni-plaintext\">3002</div>"
      ]
     },
     "metadata": {}
    }
   ],
   "metadata": {
    "dotnet_interactive": {
     "language": "fsharp"
    }
   }
  },
  {
   "cell_type": "markdown",
   "source": [
    "## Interface"
   ],
   "metadata": {}
  },
  {
   "cell_type": "code",
   "execution_count": null,
   "source": [
    "(** INTERFACES **)\n",
    "#r \"nuget:FSharp.Data\""
   ],
   "outputs": [
    {
     "data": {
      "text/html": [
       "<div><div></div><div></div><div><strong>Installed Packages</strong><ul><li><span>FSharp.Data, 4.2.2</span></li></ul></div></div>"
      ]
     },
     "metadata": {},
     "output_type": "display_data"
    }
   ],
   "metadata": {
    "dotnet_interactive": {
     "language": "fsharp"
    }
   }
  },
  {
   "cell_type": "code",
   "execution_count": null,
   "source": [
    "open FSharp.Data\n",
    "open System.IO"
   ],
   "outputs": [],
   "metadata": {
    "dotnet_interactive": {
     "language": "fsharp"
    }
   }
  },
  {
   "cell_type": "code",
   "execution_count": null,
   "source": [
    "type IHtmlParser =\n",
    "    abstract member ParseHtml : string -> HtmlDocument"
   ],
   "outputs": [],
   "metadata": {
    "dotnet_interactive": {
     "language": "fsharp"
    }
   }
  },
  {
   "cell_type": "code",
   "execution_count": null,
   "source": [
    "type WebParser () =\n",
    "    interface IHtmlParser with\n",
    "        member this.ParseHtml url = HtmlDocument.Load(url)\n",
    "\n",
    "    member this.ParseHtml url = (this :> IHtmlParser).ParseHtml(url)"
   ],
   "outputs": [],
   "metadata": {
    "dotnet_interactive": {
     "language": "fsharp"
    }
   }
  },
  {
   "cell_type": "code",
   "execution_count": null,
   "source": [
    "type FileParser () =\n",
    "    interface IHtmlParser with\n",
    "        member this.ParseHtml filePath = \n",
    "            filePath\n",
    "            |> File.ReadAllText\n",
    "            |> fun fileContents -> HtmlDocument.Parse(fileContents)\n",
    "\n",
    "    member this.ParseHtml filePath = (this :> IHtmlParser).ParseHtml(filePath)"
   ],
   "outputs": [],
   "metadata": {
    "dotnet_interactive": {
     "language": "fsharp"
    }
   }
  },
  {
   "cell_type": "code",
   "execution_count": null,
   "source": [
    "// Create parsers\n",
    "let classWebParser = WebParser() :> IHtmlParser\n",
    "let classFileParser = FileParser() :> IHtmlParser"
   ],
   "outputs": [],
   "metadata": {
    "dotnet_interactive": {
     "language": "fsharp"
    }
   }
  },
  {
   "cell_type": "code",
   "execution_count": null,
   "source": [
    "//Function to handle parsing of HTML\n",
    "let parseHtml (parser:IHtmlParser) (source:string) = parser.ParseHtml(source)"
   ],
   "outputs": [],
   "metadata": {
    "dotnet_interactive": {
     "language": "fsharp"
    }
   }
  },
  {
   "cell_type": "code",
   "execution_count": null,
   "source": [
    "// Use web parser\n",
    "parseHtml classWebParser \"https://github.com/dotnet/fsharp\""
   ],
   "outputs": [],
   "metadata": {
    "dotnet_interactive": {
     "language": "fsharp"
    }
   }
  },
  {
   "cell_type": "code",
   "execution_count": null,
   "source": [
    "// Use file parser\n",
    "Path.Join(__SOURCE_DIRECTORY__, \"fsharp-github-repo.html\")\n",
    "|> parseHtml classFileParser"
   ],
   "outputs": [
    {
     "output_type": "error",
     "ename": "Error",
     "evalue": "System.IO.FileNotFoundException: Could not find file '/Users/jajati.sahoo/Documents/code/fsharp/web/fsharp-github-repo.html'.\nFile name: '/Users/jajati.sahoo/Documents/code/fsharp/web/fsharp-github-repo.html'\n   at Interop.ThrowExceptionForIoErrno(ErrorInfo errorInfo, String path, Boolean isDirectory, Func`2 errorRewriter)\n   at Microsoft.Win32.SafeHandles.SafeFileHandle.Open(String path, OpenFlags flags, Int32 mode)\n   at System.IO.FileStream..ctor(String path, FileMode mode, FileAccess access, FileShare share, Int32 bufferSize, FileOptions options)\n   at System.IO.StreamReader.ValidateArgsAndOpenPath(String path, Encoding encoding, Int32 bufferSize)\n   at System.IO.File.InternalReadAllText(String path, Encoding encoding)\n   at FSI_0019.FileParser.FSI_0017.IHtmlParser.ParseHtml(String filePath)\n   at <StartupCode$FSI_0028>.$FSI_0028.main@()",
     "traceback": [
      "System.IO.FileNotFoundException: Could not find file '/Users/jajati.sahoo/Documents/code/fsharp/web/fsharp-github-repo.html'.\n",
      "File name: '/Users/jajati.sahoo/Documents/code/fsharp/web/fsharp-github-repo.html'\n",
      "   at Interop.ThrowExceptionForIoErrno(ErrorInfo errorInfo, String path, Boolean isDirectory, Func`2 errorRewriter)\n",
      "   at Microsoft.Win32.SafeHandles.SafeFileHandle.Open(String path, OpenFlags flags, Int32 mode)\n",
      "   at System.IO.FileStream..ctor(String path, FileMode mode, FileAccess access, FileShare share, Int32 bufferSize, FileOptions options)\n",
      "   at System.IO.StreamReader.ValidateArgsAndOpenPath(String path, Encoding encoding, Int32 bufferSize)\n",
      "   at System.IO.File.InternalReadAllText(String path, Encoding encoding)\n",
      "   at FSI_0019.FileParser.FSI_0017.IHtmlParser.ParseHtml(String filePath)\n",
      "   at <StartupCode$FSI_0028>.$FSI_0028.main@()"
     ]
    }
   ],
   "metadata": {
    "dotnet_interactive": {
     "language": "fsharp"
    }
   }
  },
  {
   "cell_type": "code",
   "execution_count": null,
   "source": [
    "// Implement IHtmlParser to parse HTML contents from URL\n",
    "let webParser =\n",
    "    { new IHtmlParser with\n",
    "        member this.ParseHtml url = HtmlDocument.Load(url) }"
   ],
   "outputs": [],
   "metadata": {
    "dotnet_interactive": {
     "language": "fsharp"
    }
   }
  },
  {
   "cell_type": "code",
   "execution_count": null,
   "source": [
    "// Implement IHtmlPraser to parse HTML contents from local file\n",
    "let fileParser =\n",
    "    { new IHtmlParser with\n",
    "        member this.ParseHtml filePath =\n",
    "            filePath\n",
    "            |> File.ReadAllText\n",
    "            |> fun fileContents -> HtmlDocument.Parse(fileContents) }"
   ],
   "outputs": [],
   "metadata": {
    "dotnet_interactive": {
     "language": "fsharp"
    }
   }
  },
  {
   "cell_type": "code",
   "execution_count": null,
   "source": [
    "// Parse with webParser\n",
    "parseHtml webParser \"https://github.com/dotnet/fsharp\" "
   ],
   "outputs": [],
   "metadata": {
    "dotnet_interactive": {
     "language": "fsharp"
    }
   }
  },
  {
   "cell_type": "code",
   "execution_count": null,
   "source": [
    "// Read local file contents and parse with fileParser\n",
    "Path.Join(__SOURCE_DIRECTORY__, \"fsharp-github-repo.html\") \n",
    "|> parseHtml fileParser"
   ],
   "outputs": [],
   "metadata": {
    "dotnet_interactive": {
     "language": "fsharp"
    }
   }
  },
  {
   "cell_type": "code",
   "execution_count": null,
   "source": [],
   "outputs": [],
   "metadata": {
    "dotnet_interactive": {
     "language": "fsharp"
    }
   }
  }
 ],
 "nbformat": 4,
 "nbformat_minor": 2
}