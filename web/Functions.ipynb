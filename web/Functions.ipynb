{
 "metadata": {
  "kernelspec": {
   "display_name": ".NET (F#)",
   "language": "F#",
   "name": ".net-fsharp"
  },
  "language_info": {
   "name": "F#"
  }
 },
 "cells": [
  {
   "cell_type": "code",
   "execution_count": null,
   "source": [
    "let add x y = x * y"
   ],
   "outputs": [],
   "metadata": {
    "dotnet_interactive": {
     "language": "fsharp"
    }
   }
  },
  {
   "cell_type": "code",
   "execution_count": null,
   "source": [
    "add 4 5"
   ],
   "outputs": [
    {
     "output_type": "display_data",
     "data": {
      "text/html": [
       "<div class=\"dni-plaintext\">20</div>"
      ]
     },
     "metadata": {}
    }
   ],
   "metadata": {
    "dotnet_interactive": {
     "language": "fsharp"
    }
   }
  },
  {
   "cell_type": "code",
   "execution_count": null,
   "source": [
    "let buildUrlNoAnnotations protocol baseUrl path = $\"{protocol}://{baseUrl}/{path}\""
   ],
   "outputs": [],
   "metadata": {
    "dotnet_interactive": {
     "language": "fsharp"
    }
   }
  },
  {
   "cell_type": "code",
   "execution_count": null,
   "source": [
    "let buildUrl (protocol: string) (baseUrl: string) (path: string) : string = \n",
    "    $\"{protocol}://{baseUrl}/{path}\""
   ],
   "outputs": [],
   "metadata": {
    "dotnet_interactive": {
     "language": "fsharp"
    }
   }
  },
  {
   "cell_type": "code",
   "execution_count": null,
   "source": [
    "//buildUrl 1 \"github.com\" (1.0,4.0)\n",
    "buildUrl \"http\" \"github.com\" \"dotnet/fsharp\" // Works"
   ],
   "outputs": [
    {
     "output_type": "display_data",
     "data": {
      "text/plain": [
       "http://github.com/dotnet/fsharp"
      ]
     },
     "metadata": {}
    }
   ],
   "metadata": {
    "dotnet_interactive": {
     "language": "fsharp"
    }
   }
  },
  {
   "cell_type": "code",
   "execution_count": null,
   "source": [
    "(** OPTION TYPES **)\n",
    "#r \"nuget:FSharp.Data\""
   ],
   "outputs": [
    {
     "output_type": "display_data",
     "data": {
      "text/html": [
       "<div><div></div><div></div><div><strong>Installed Packages</strong><ul><li><span>FSharp.Data, 4.2.0</span></li></ul></div></div>"
      ]
     },
     "metadata": {}
    }
   ],
   "metadata": {
    "dotnet_interactive": {
     "language": "fsharp"
    }
   }
  },
  {
   "cell_type": "code",
   "execution_count": null,
   "source": [
    "open FSharp.Data\n",
    "open System.IO"
   ],
   "outputs": [],
   "metadata": {
    "dotnet_interactive": {
     "language": "fsharp"
    }
   }
  },
  {
   "cell_type": "code",
   "execution_count": null,
   "source": [
    "let getHtml (htmlFile: string) : HtmlDocument option =\n",
    "    try\n",
    "        let html = HtmlDocument.Load(htmlFile)\n",
    "        Some(html)\n",
    "    with\n",
    "    | ex ->\n",
    "        printfn $\"Error: {ex}\"\n",
    "        None\n",
    "\n",
    "//HtmlDocument.Load \"doesnotexist\""
   ],
   "outputs": [],
   "metadata": {
    "dotnet_interactive": {
     "language": "fsharp"
    }
   }
  },
  {
   "cell_type": "code",
   "execution_count": null,
   "source": [
    "// HtmlDocument.Load \"doesnotexist\"\n",
    "// getHtml \"doesnotexist\"\n",
    "let htmlPath = Path.Join(\"https://github.com/luisquintanilla/fsharp-101-samples/blob/main/functions/\",\"fsharp-github-repo.html\") // __SOURCE_DIRECTORY__"
   ],
   "outputs": [],
   "metadata": {
    "dotnet_interactive": {
     "language": "fsharp"
    }
   }
  },
  {
   "cell_type": "code",
   "execution_count": null,
   "source": [
    "getHtml htmlPath"
   ],
   "outputs": [],
   "metadata": {
    "dotnet_interactive": {
     "language": "fsharp"
    }
   }
  },
  {
   "cell_type": "code",
   "execution_count": null,
   "source": [
    "(** PIPELINES **)\n",
    "\n",
    "let getLinks (html: HtmlDocument option) =\n",
    "    // Pattern match over option type to get 'a' html tags in document\n",
    "    match html with\n",
    "    | Some (x) -> x.Descendants [ \"a\" ]\n",
    "    | None -> Seq.empty"
   ],
   "outputs": [],
   "metadata": {
    "dotnet_interactive": {
     "language": "fsharp"
    }
   }
  },
  {
   "cell_type": "code",
   "execution_count": null,
   "source": [
    "// Call getHtml and getLinks\n",
    "getLinks (getHtml htmlPath)"
   ],
   "outputs": [],
   "metadata": {
    "dotnet_interactive": {
     "language": "fsharp"
    }
   }
  },
  {
   "cell_type": "code",
   "execution_count": null,
   "source": [
    "// Use pipe operator |> to call getHtml and getLinks --> Same as the previous cell.\n",
    "htmlPath |> getHtml |> getLinks"
   ],
   "outputs": [],
   "metadata": {
    "dotnet_interactive": {
     "language": "fsharp"
    }
   }
  },
  {
   "cell_type": "code",
   "execution_count": null,
   "source": [
    "(** COMPOSITION **)\n",
    "\n",
    "// Use composition operator >> to \n",
    "// combine getHtml and getLinks into one function\n",
    "let getLinksFromHtml = getHtml >> getLinks"
   ],
   "outputs": [],
   "metadata": {
    "dotnet_interactive": {
     "language": "fsharp"
    }
   }
  },
  {
   "cell_type": "code",
   "execution_count": null,
   "source": [
    "// Call getLinksFromHtml\n",
    "getLinksFromHtml htmlPath"
   ],
   "outputs": [],
   "metadata": {
    "dotnet_interactive": {
     "language": "fsharp"
    }
   }
  },
  {
   "cell_type": "code",
   "execution_count": null,
   "source": [
    "// Use pipe operator and lambda expression for additional processing\n",
    "htmlPath\n",
    "|> getLinksFromHtml \n",
    "|> fun links -> printfn $\"{links}\""
   ],
   "outputs": [
    {
     "output_type": "stream",
     "name": "stdout",
     "text": [
      "Microsoft.FSharp.Collections.IEnumerator+mkSeq@132[FSharp.Data.HtmlNode]\n"
     ]
    }
   ],
   "metadata": {
    "dotnet_interactive": {
     "language": "fsharp"
    }
   }
  },
  {
   "cell_type": "code",
   "execution_count": null,
   "source": [],
   "outputs": [],
   "metadata": {
    "dotnet_interactive": {
     "language": "fsharp"
    }
   }
  }
 ],
 "nbformat": 4,
 "nbformat_minor": 2
}