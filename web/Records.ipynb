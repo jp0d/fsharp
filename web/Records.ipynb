{
 "metadata": {
  "kernelspec": {
   "display_name": ".NET (F#)",
   "language": "F#",
   "name": ".net-fsharp"
  },
  "language_info": {
   "name": "F#"
  }
 },
 "cells": [
  {
   "cell_type": "markdown",
   "source": [
    "## Records"
   ],
   "metadata": {}
  },
  {
   "cell_type": "code",
   "execution_count": null,
   "source": [
    "(** CREATE TUPLES**)\n",
    "\n",
    "let point1 = (1.0, 2.0)\n",
    "\n",
    "let gitHubStars = (\"dotnet/fsharp\", 2800)"
   ],
   "outputs": [],
   "metadata": {
    "dotnet_interactive": {
     "language": "fsharp"
    }
   }
  },
  {
   "cell_type": "code",
   "execution_count": null,
   "source": [
    "(**GET DATA**)\n",
    "fst gitHubStars // Get first item\n",
    "snd gitHubStars // Get second item"
   ],
   "outputs": [
    {
     "output_type": "display_data",
     "data": {
      "text/html": [
       "<div class=\"dni-plaintext\">2800</div>"
      ]
     },
     "metadata": {}
    }
   ],
   "metadata": {
    "dotnet_interactive": {
     "language": "fsharp"
    }
   }
  },
  {
   "cell_type": "code",
   "execution_count": null,
   "source": [
    "let projectName, stars = gitHubStars\n",
    "\n",
    "printfn $\"{projectName}: {stars}\""
   ],
   "outputs": [
    {
     "output_type": "stream",
     "name": "stdout",
     "text": [
      "dotnet/fsharp: 2800\n"
     ]
    }
   ],
   "metadata": {
    "dotnet_interactive": {
     "language": "fsharp"
    }
   }
  },
  {
   "cell_type": "code",
   "execution_count": null,
   "source": [
    "let projectName, _ = gitHubStars // Stars is ignored"
   ],
   "outputs": [],
   "metadata": {
    "dotnet_interactive": {
     "language": "fsharp"
    }
   }
  },
  {
   "cell_type": "markdown",
   "source": [
    "## Tuples"
   ],
   "metadata": {}
  },
  {
   "cell_type": "code",
   "execution_count": null,
   "source": [
    "(** CREATE TUPLES**)\n",
    "\n",
    "let point1 = (1.0, 2.0)\n",
    "\n",
    "let gitHubStars = (\"dotnet/fsharp\", 2800)"
   ],
   "outputs": [],
   "metadata": {
    "dotnet_interactive": {
     "language": "fsharp"
    }
   }
  },
  {
   "cell_type": "code",
   "execution_count": null,
   "source": [
    "(**GET DATA**)\n",
    "fst gitHubStars // Get first item"
   ],
   "outputs": [
    {
     "data": {
      "text/plain": [
       "dotnet/fsharp"
      ]
     },
     "metadata": {},
     "output_type": "display_data"
    }
   ],
   "metadata": {
    "dotnet_interactive": {
     "language": "fsharp"
    }
   }
  },
  {
   "cell_type": "code",
   "execution_count": null,
   "source": [
    "snd gitHubStars // Get second item"
   ],
   "outputs": [
    {
     "data": {
      "text/html": [
       "<div class=\"dni-plaintext\">2800</div>"
      ]
     },
     "metadata": {},
     "output_type": "display_data"
    }
   ],
   "metadata": {
    "dotnet_interactive": {
     "language": "fsharp"
    }
   }
  },
  {
   "cell_type": "code",
   "execution_count": null,
   "source": [
    "let projectName, stars = gitHubStars\n",
    "\n",
    "printfn $\"{projectName}: {stars}\""
   ],
   "outputs": [
    {
     "output_type": "stream",
     "name": "stdout",
     "text": [
      "dotnet/fsharp: 2800\n"
     ]
    }
   ],
   "metadata": {
    "dotnet_interactive": {
     "language": "fsharp"
    }
   }
  },
  {
   "cell_type": "code",
   "execution_count": null,
   "source": [
    "let projectName, _ = gitHubStars // Stars is ignored"
   ],
   "outputs": [],
   "metadata": {
    "dotnet_interactive": {
     "language": "fsharp"
    }
   }
  },
  {
   "cell_type": "markdown",
   "source": [
    "## Discriminated Unions"
   ],
   "metadata": {}
  },
  {
   "cell_type": "code",
   "execution_count": null,
   "source": [
    "type StringGitHubProject =\n",
    "    { ProjectName: string\n",
    "      Stars: int\n",
    "      State: string }"
   ],
   "outputs": [],
   "metadata": {
    "dotnet_interactive": {
     "language": "fsharp"
    }
   }
  },
  {
   "cell_type": "code",
   "execution_count": null,
   "source": [
    "let fakeProject =\n",
    "    { ProjectName = \"Amazing Project\"\n",
    "      Stars = 0\n",
    "      State = \"asdfwerq\" //No enforcement\n",
    "    }"
   ],
   "outputs": [],
   "metadata": {
    "dotnet_interactive": {
     "language": "fsharp"
    }
   }
  },
  {
   "cell_type": "code",
   "execution_count": null,
   "source": [
    "(**DEFINE DISCRIMINATED UNION*)\n",
    "type ProjectState =\n",
    "    | Archived\n",
    "    | Active of {| Maintainer: string |}"
   ],
   "outputs": [],
   "metadata": {
    "dotnet_interactive": {
     "language": "fsharp"
    }
   }
  },
  {
   "cell_type": "code",
   "execution_count": null,
   "source": [
    "type GitHubProject =\n",
    "    { ProjectName: string\n",
    "      Stars: int\n",
    "      State: ProjectState }"
   ],
   "outputs": [],
   "metadata": {
    "dotnet_interactive": {
     "language": "fsharp"
    }
   }
  },
  {
   "cell_type": "code",
   "execution_count": null,
   "source": [
    "(**USE DISCRIMINATED UNION*)\n",
    "let (anotherFakeProject: GitHubProject) =\n",
    "    { ProjectName = \"Other amazing project\"\n",
    "      Stars = 0\n",
    "      State = \"asdfasdf\" }"
   ],
   "outputs": [
    {
     "output_type": "error",
     "ename": "Error",
     "evalue": "input.fsx (5,15)-(5,25) typecheck error This expression was expected to have type\n    'ProjectState'    \nbut here has type\n    'string'    ",
     "traceback": [
      "input.fsx (5,15)-(5,25) typecheck error This expression was expected to have type\n",
      "    'ProjectState'    \n",
      "but here has type\n",
      "    'string'    "
     ]
    }
   ],
   "metadata": {
    "dotnet_interactive": {
     "language": "fsharp"
    }
   }
  },
  {
   "cell_type": "code",
   "execution_count": null,
   "source": [
    "let corefxlab =\n",
    "    { ProjectName = \"corefxlab\"\n",
    "      Stars = 1500\n",
    "      State = Archived }"
   ],
   "outputs": [],
   "metadata": {
    "dotnet_interactive": {
     "language": "fsharp"
    }
   }
  },
  {
   "cell_type": "code",
   "execution_count": null,
   "source": [
    "let fsharp =\n",
    "    { ProjectName = \"dotnet/fsharp\"\n",
    "      Stars = 2800\n",
    "      State = Active {| Maintainer = \"F# Team\" |} }"
   ],
   "outputs": [],
   "metadata": {
    "dotnet_interactive": {
     "language": "fsharp"
    }
   }
  },
  {
   "cell_type": "code",
   "execution_count": null,
   "source": [],
   "outputs": [],
   "metadata": {
    "dotnet_interactive": {
     "language": "fsharp"
    }
   }
  }
 ],
 "nbformat": 4,
 "nbformat_minor": 2
}