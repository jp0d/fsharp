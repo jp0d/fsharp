{
 "cells": [
  {
   "cell_type": "code",
   "execution_count": 2,
   "metadata": {
    "vscode": {
     "languageId": "fsharp"
    }
   },
   "outputs": [],
   "source": [
    "let fingers = 10"
   ]
  },
  {
   "cell_type": "code",
   "execution_count": 3,
   "id": "3110e37c",
   "metadata": {
    "vscode": {
     "languageId": "fsharp"
    }
   },
   "outputs": [],
   "source": [
    "let add x y = x + y"
   ]
  },
  {
   "cell_type": "code",
   "execution_count": 4,
   "id": "d23ae2d5",
   "metadata": {
    "vscode": {
     "languageId": "fsharp"
    }
   },
   "outputs": [],
   "source": [
    "let five = add 2 3"
   ]
  },
  {
   "cell_type": "code",
   "execution_count": 5,
   "id": "e38f383e",
   "metadata": {
    "vscode": {
     "languageId": "fsharp"
    }
   },
   "outputs": [],
   "source": [
    "let fingers: int = 10"
   ]
  },
  {
   "cell_type": "code",
   "execution_count": 6,
   "id": "4318ecbb",
   "metadata": {
    "vscode": {
     "languageId": "fsharp"
    }
   },
   "outputs": [],
   "source": [
    "let add (x: int) (y: int): int = x + y"
   ]
  },
  {
   "cell_type": "code",
   "execution_count": 7,
   "id": "89a56f8c",
   "metadata": {
    "vscode": {
     "languageId": "fsharp"
    }
   },
   "outputs": [],
   "source": [
    "let add x y = x + y"
   ]
  },
  {
   "cell_type": "code",
   "execution_count": 8,
   "id": "b243f101",
   "metadata": {
    "vscode": {
     "languageId": "fsharp"
    }
   },
   "outputs": [],
   "source": [
    "let toes =\n",
    "    let left = 5\n",
    "    let right = 5\n",
    "    left + right\n",
    "\n",
    "let multiplyPlusTwo x y =\n",
    "    let product = x * y\n",
    "    product + 2\n"
   ]
  },
  {
   "cell_type": "code",
   "execution_count": 9,
   "id": "b3429fe1",
   "metadata": {
    "vscode": {
     "languageId": "fsharp"
    }
   },
   "outputs": [
    {
     "name": "stderr",
     "output_type": "stream",
     "text": [
      "\n",
      "input.fsx (3,1)-(3,4) parse error Unexpected start of structured construct in definition. Expected '=' or other token.\n",
      "\n",
      "input.fsx (3,1)-(3,4) interactive error parse error\n",
      "\n"
     ]
    },
    {
     "ename": "Cell not executed",
     "evalue": "compilation error",
     "output_type": "error",
     "traceback": []
    }
   ],
   "source": [
    "module Calculator\n",
    "\n",
    "let pi = 3.14\n",
    "\n",
    "let add x y = x + y"
   ]
  },
  {
   "cell_type": "code",
   "execution_count": null,
   "id": "a527ddfc",
   "metadata": {
    "vscode": {
     "languageId": "fsharp"
    }
   },
   "outputs": [],
   "source": []
  }
 ],
 "metadata": {
  "kernelspec": {
   "display_name": ".NET (F#)",
   "language": "F#",
   "name": ".net-fsharp"
  },
  "language_info": {
   "file_extension": ".fs",
   "mimetype": "text/x-fsharp",
   "name": "F#",
   "pygments_lexer": "fsharp",
   "version": "5.0"
  }
 },
 "nbformat": 4,
 "nbformat_minor": 5
}
